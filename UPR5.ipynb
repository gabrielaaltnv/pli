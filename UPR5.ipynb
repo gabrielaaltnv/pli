{
 "cells": [
  {
   "cell_type": "code",
   "execution_count": 1,
   "id": "d4acf3fd-46f4-4eb0-bec5-28eab94ae008",
   "metadata": {},
   "outputs": [
    {
     "name": "stdout",
     "output_type": "stream",
     "text": [
      "Requirement already satisfied: numpy in c:\\users\\user\\anaconda3\\lib\\site-packages (1.26.4)\n",
      "Note: you may need to restart the kernel to use updated packages.\n"
     ]
    }
   ],
   "source": [
    "pip install numpy\n"
   ]
  },
  {
   "cell_type": "code",
   "execution_count": 3,
   "id": "72757b52-9341-4586-bf4c-54fad2352d83",
   "metadata": {},
   "outputs": [],
   "source": [
    "import numpy as np\n",
    "\n",
    "def load_glove(file_path):\n",
    "    glove = {}\n",
    "    with open(file_path, 'r', encoding='utf-8') as f:\n",
    "        for line in f:\n",
    "            parts = line.strip().split()\n",
    "            word = parts[0]\n",
    "            vector = np.array(parts[1:], dtype=np.float32)\n",
    "            glove[word] = vector\n",
    "    return glove\n",
    "\n",
    "# Load GloVe vectors (make sure the file is in the same folder as the notebook)\n",
    "glove_vectors = load_glove(\"glove.6B.50d.txt\")  # or another file like glove.6B.50d.txt\n"
   ]
  },
  {
   "cell_type": "code",
   "execution_count": 5,
   "id": "a8ae26a1-5073-452f-a0bb-bceabb189661",
   "metadata": {},
   "outputs": [
    {
     "data": {
      "text/plain": [
       "array([ 0.45281 , -0.50108 , -0.53714 , -0.015697,  0.22191 ,  0.54602 ,\n",
       "       -0.67301 , -0.6891  ,  0.63493 , -0.19726 ,  0.33685 ,  0.7735  ,\n",
       "        0.90094 ,  0.38488 ,  0.38367 ,  0.2657  , -0.08057 ,  0.61089 ,\n",
       "       -1.2894  , -0.22313 , -0.61578 ,  0.21697 ,  0.35614 ,  0.44499 ,\n",
       "        0.60885 , -1.1633  , -1.1579  ,  0.36118 ,  0.10466 , -0.78325 ,\n",
       "        1.4352  ,  0.18629 , -0.26112 ,  0.83275 , -0.23123 ,  0.32481 ,\n",
       "        0.14485 , -0.44552 ,  0.33497 , -0.95946 , -0.097479,  0.48138 ,\n",
       "       -0.43352 ,  0.69455 ,  0.91043 , -0.28173 ,  0.41637 , -1.2609  ,\n",
       "        0.71278 ,  0.23782 ], dtype=float32)"
      ]
     },
     "execution_count": 5,
     "metadata": {},
     "output_type": "execute_result"
    }
   ],
   "source": [
    "# Show the vector for a word\n",
    "glove_vectors[\"cat\"]\n"
   ]
  },
  {
   "cell_type": "code",
   "execution_count": 7,
   "id": "ece75b7a-726a-46a1-ba9b-070151bf1630",
   "metadata": {},
   "outputs": [],
   "source": [
    "import numpy as np\n",
    "from numpy.linalg import norm"
   ]
  },
  {
   "cell_type": "code",
   "execution_count": null,
   "id": "1ae991c9-af9e-48c0-8874-7a0ed2a085c5",
   "metadata": {},
   "outputs": [],
   "source": [
    "with open(\"glove.6B.50d.txt\", \"r\", encoding=\"utf-8\") as f:\n",
    "    vectors = f.read()\n",
    "    vectors = vectors.split(\"\\n\")"
   ]
  },
  {
   "cell_type": "code",
   "execution_count": null,
   "id": "c9037dd1-9a29-47f2-b768-b792b1ef8473",
   "metadata": {},
   "outputs": [],
   "source": [
    "word2idx = dict()\n",
    "matrix = np.zeros((len(vectors), 50))\n",
    "\n",
    "idx = 0\n",
    "for v in vectors:\n",
    "    data : list = v.split(\" \")\n",
    "    word : str = data[0]\n",
    "    vector : list = [float(i) for i in data[1:]]\n",
    "    if(len(vector) > 1):\n",
    "        word2idx[word] = idx\n",
    "        matrix[idx,0:] = vector\n",
    "        idx += 1"
   ]
  },
  {
   "cell_type": "code",
   "execution_count": 9,
   "id": "cd5b1223-edf9-471e-8391-759e93ebcfd8",
   "metadata": {},
   "outputs": [],
   "source": [
    "import numpy as np\n",
    "\n",
    "def cosine_similarity(vec1, vec2):\n",
    "    return np.dot(vec1, vec2) / (np.linalg.norm(vec1) * np.linalg.norm(vec2))\n",
    "\n",
    "def most_similar(A: str):\n",
    "    if A not in glove_vectors:\n",
    "        print(f\"'{A}' not in vocabulary.\")\n",
    "        return []\n",
    "    \n",
    "    A_vec = glove_vectors[A]\n",
    "    similarities = []\n",
    "\n",
    "    for word, vec in glove_vectors.items():\n",
    "        if word != A:\n",
    "            sim = cosine_similarity(A_vec, vec)\n",
    "            similarities.append((word, sim))\n",
    "\n",
    "    # Sort by similarity, descending\n",
    "    results = sorted(similarities, key=lambda x: x[1], reverse=True)\n",
    "\n",
    "    return results[:10]  # Top 10 most similar words\n"
   ]
  },
  {
   "cell_type": "code",
   "execution_count": 11,
   "id": "6a1d63ad-afcb-46c5-85a6-cfa8c91c5907",
   "metadata": {},
   "outputs": [],
   "source": [
    "import numpy as np\n",
    "\n",
    "def load_glove(file_path):\n",
    "    glove = {}\n",
    "    with open(file_path, 'r', encoding='utf-8') as f:\n",
    "        for line in f:\n",
    "            parts = line.strip().split()\n",
    "            word = parts[0]\n",
    "            vector = np.array(parts[1:], dtype=np.float32)\n",
    "            glove[word] = vector\n",
    "    return glove\n",
    "\n",
    "# Load 50-dimensional GloVe vectors\n",
    "glove_vectors = load_glove(\"glove.6B.50d.txt\")\n"
   ]
  },
  {
   "cell_type": "code",
   "execution_count": 13,
   "id": "36ef87b3-f472-40eb-ba8a-270ed04a8f50",
   "metadata": {},
   "outputs": [],
   "source": [
    "def cosine_similarity(vec1, vec2):\n",
    "    return np.dot(vec1, vec2) / (np.linalg.norm(vec1) * np.linalg.norm(vec2))\n",
    "\n",
    "def most_similar(A: str):\n",
    "    if A not in glove_vectors:\n",
    "        print(f\"'{A}' not in vocabulary.\")\n",
    "        return []\n",
    "    \n",
    "    A_vec = glove_vectors[A]\n",
    "    similarities = []\n",
    "\n",
    "    for word, vec in glove_vectors.items():\n",
    "        if word != A:\n",
    "            sim = cosine_similarity(A_vec, vec)\n",
    "            similarities.append((word, sim))\n",
    "\n",
    "    # Sort by similarity\n",
    "    results = sorted(similarities, key=lambda x: x[1], reverse=True)\n",
    "    return results[:10]\n"
   ]
  },
  {
   "cell_type": "code",
   "execution_count": 15,
   "id": "8e0670f8-60eb-4821-b1a3-e51d694e428a",
   "metadata": {},
   "outputs": [
    {
     "name": "stdout",
     "output_type": "stream",
     "text": [
      "horrible: 0.9373\n",
      "awful: 0.8873\n",
      "tragic: 0.8340\n",
      "dreadful: 0.8280\n",
      "tragedy: 0.8180\n",
      "horrific: 0.8109\n",
      "nightmare: 0.7995\n",
      "unfortunate: 0.7938\n",
      "horrendous: 0.7857\n",
      "unfortunately: 0.7838\n"
     ]
    }
   ],
   "source": [
    "for word, score in most_similar(\"terrible\"):\n",
    "    print(f\"{word}: {score:.4f}\")\n"
   ]
  },
  {
   "cell_type": "code",
   "execution_count": 17,
   "id": "1822bbcf-aab7-481d-8b52-30d64ec9253c",
   "metadata": {},
   "outputs": [],
   "source": [
    "import numpy as np\n",
    "\n",
    "def cossim(A, B):\n",
    "    cosine = np.dot(A, B) / (np.linalg.norm(A) * np.linalg.norm(B))\n",
    "    return cosine\n"
   ]
  },
  {
   "cell_type": "code",
   "execution_count": 23,
   "id": "fe201314-3a90-4252-b683-50a0e313b96c",
   "metadata": {},
   "outputs": [
    {
     "name": "stdout",
     "output_type": "stream",
     "text": [
      "Cosine similarity: 0.6934\n"
     ]
    }
   ],
   "source": [
    "vec1 = glove_vectors[\"prague\"]\n",
    "vec2 = glove_vectors[\"czech\"]\n",
    "\n",
    "similarity = cossim(vec1, vec2)\n",
    "print(f\"Cosine similarity: {similarity:.4f}\")\n"
   ]
  },
  {
   "cell_type": "code",
   "execution_count": null,
   "id": "aec6fbd9-ae4f-408d-8d9b-126be43be247",
   "metadata": {},
   "outputs": [],
   "source": []
  }
 ],
 "metadata": {
  "kernelspec": {
   "display_name": "Python [conda env:base] *",
   "language": "python",
   "name": "conda-base-py"
  },
  "language_info": {
   "codemirror_mode": {
    "name": "ipython",
    "version": 3
   },
   "file_extension": ".py",
   "mimetype": "text/x-python",
   "name": "python",
   "nbconvert_exporter": "python",
   "pygments_lexer": "ipython3",
   "version": "3.12.7"
  }
 },
 "nbformat": 4,
 "nbformat_minor": 5
}
