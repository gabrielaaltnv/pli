{
 "cells": [
  {
   "cell_type": "code",
   "execution_count": 5,
   "id": "e9057c74-4581-42f4-8a03-06a3c50d06cc",
   "metadata": {
    "scrolled": true
   },
   "outputs": [
    {
     "name": "stdout",
     "output_type": "stream",
     "text": [
      "['121', '212', '132']\n"
     ]
    }
   ],
   "source": [
    "import glob, os, re\n",
    "from math import sin, cos, log\n",
    "\n",
    "text = \"121 2565 212 36585522 132 23 219a4 1\"\n",
    "\n",
    "def found(s):    \n",
    "    return re.findall(r'\\b\\d{3}\\b', s)    \n",
    "\n",
    "\n",
    "found_numbers = found(text)    \n",
    "print(found_numbers)"
   ]
  },
  {
   "cell_type": "code",
   "execution_count": 37,
   "id": "dd3ee002-b68f-4b2c-bcdf-0e7e44f466c9",
   "metadata": {},
   "outputs": [
    {
     "name": "stdout",
     "output_type": "stream",
     "text": [
      "['121', '36585522', '132', '1']\n"
     ]
    }
   ],
   "source": [
    "import glob, os, re\n",
    "from math import sin, cos, log\n",
    "\n",
    "text = \"121 2565 212 36585522 132 23 219a4 1\"\n",
    "\n",
    "def found(s):    \n",
    "        return re.findall(r'(?<!\\d)[13]\\d*', s)\n",
    "\n",
    "\n",
    "found_numbers = found(text)    \n",
    "print(found_numbers)"
   ]
  },
  {
   "cell_type": "code",
   "execution_count": 39,
   "id": "9e8c3bcc-58d9-40fb-98bf-e49e7e708d74",
   "metadata": {},
   "outputs": [
    {
     "name": "stdout",
     "output_type": "stream",
     "text": [
      "['121', '212', '132', '23', '-1']\n"
     ]
    }
   ],
   "source": [
    "import glob, os, re\n",
    "from math import sin,cos,log\n",
    "\n",
    "text = \"121 2565 212 36585522 132 23 219a4 -1\"\n",
    "\n",
    "def found(s):    \n",
    "    return re.findall(r'-?\\b\\d{1,3}\\b', s)    \n",
    "\n",
    "\n",
    "found_numbers = found(text)    \n",
    "print(found_numbers)"
   ]
  },
  {
   "cell_type": "code",
   "execution_count": 41,
   "id": "b6452a36-2b36-4a31-a6a9-cfc29de31db7",
   "metadata": {},
   "outputs": [
    {
     "name": "stdout",
     "output_type": "stream",
     "text": [
      "['12.', '13.']\n"
     ]
    }
   ],
   "source": [
    "import glob, os, re\n",
    "from math import sin,cos,log\n",
    "def found(s):\n",
    "    return re.findall(r'\\b\\d+\\.', s)\n",
    "\n",
    "\n",
    "text = \"Dnes je 12. srpna, já jsem 13. v pořadí, je 14 hodin a 15 minut.\"\n",
    "found_numbers = found(text)    \n",
    "print(found_numbers)\n"
   ]
  },
  {
   "cell_type": "code",
   "execution_count": 43,
   "id": "80f45c00-e59a-489c-9664-baf47193d250",
   "metadata": {},
   "outputs": [
    {
     "name": "stdout",
     "output_type": "stream",
     "text": [
      "C:\\Users\\PLI\\Documents\\cv1\n"
     ]
    }
   ],
   "source": [
    "import glob, os, re\n",
    "from math import sin,cos,log\n",
    "\n",
    "def replace(path): \n",
    "    return path.replace(\"/\", \"\\\\\") \n",
    "\n",
    "text = \"C:/Users/PLI/Documents/cv1\" \n",
    "new_text = replace(text)\n",
    "print(new_text)"
   ]
  },
  {
   "cell_type": "code",
   "execution_count": 45,
   "id": "6f6acdc0-e3ff-4401-b12f-306e17785ff8",
   "metadata": {},
   "outputs": [
    {
     "name": "stdout",
     "output_type": "stream",
     "text": [
      "('srpen', '17:55')\n"
     ]
    }
   ],
   "source": [
    "import glob, os, re\n",
    "from math import sin,cos,log\n",
    "\n",
    "text = \"12. srpen 2022 (17:55)\" \n",
    "pattern = re.compile(r'\\d{1,2}\\.\\s([a-zA-Zá-žÁ-Ž]+)\\s\\d{4}\\s\\((\\d{2}:\\d{2})\\)') \n",
    "result = pattern.match(text)    \n",
    "print(result.groups())    "
   ]
  },
  {
   "cell_type": "code",
   "execution_count": 1,
   "id": "3901f97d-2add-40df-9d23-5c1eac15589b",
   "metadata": {},
   "outputs": [
    {
     "name": "stdout",
     "output_type": "stream",
     "text": [
      "Equation Validity:\n",
      "2*5+log(4) =9\t -> Incorrect\n",
      " 1+cos(3)+7 = 11 -> Incorrect\n",
      " 10/2+4=9 -> Correct\n",
      " sin(0)=0 -> Correct\n",
      " 2*5+4 =9 -> Incorrect\n",
      " cos(3)+7 = 11 -> Incorrect\n",
      " 2*3+4=10 -> Correct\n"
     ]
    }
   ],
   "source": [
    "import re\n",
    "import math\n",
    "\n",
    "def extract_equations(text):\n",
    "    return re.findall(r'([\\d\\w\\+\\-\\*/\\.\\(\\)\\s]+=[\\d\\w\\+\\-\\*/\\.\\(\\)\\s]+)', text)\n",
    "\n",
    "def evaluate_expression(expr):\n",
    "    try:\n",
    "        return eval(expr, {\"__builtins__\": None}, {\"sin\": math.sin, \"cos\": math.cos, \"log\": math.log, \"exp\": math.exp})\n",
    "    except Exception:\n",
    "        return None\n",
    "\n",
    "def check_equations(text):\n",
    "    equations = extract_equations(text)\n",
    "    results = {}\n",
    "    for eq in equations:\n",
    "        left, right = eq.split('=')\n",
    "        left_val = evaluate_expression(left.strip())\n",
    "        right_val = evaluate_expression(right.strip())\n",
    "        results[eq] = left_val == right_val if left_val is not None and right_val is not None else False\n",
    "    return results\n",
    "\n",
    "# Example usage\n",
    "text = \"2*5+log(4) =9\\t; 1+cos(3)+7 = 11; 10/2+4=9; sin(0)=0; 2*5+4 =9; cos(3)+7 = 11; 2*3+4=10\"\n",
    "results = check_equations(text)\n",
    "print(\"Equation Validity:\")\n",
    "for eq, valid in results.items():\n",
    "    print(f\"{eq} -> {'Correct' if valid else 'Incorrect'}\")\n"
   ]
  },
  {
   "cell_type": "code",
   "execution_count": 3,
   "id": "9ab2252d-c9ed-462e-a3e0-ffb45df50f24",
   "metadata": {},
   "outputs": [
    {
     "name": "stdout",
     "output_type": "stream",
     "text": [
      "Extracted Equations:\n",
      "['2*5+log(4) =9\\t 1+cos(3)+7 ', ' 10/2+4=9 sin(0)', '0 2*5+4 =9\\tcos(3)+7 ', ' 2*3+4=10']\n"
     ]
    }
   ],
   "source": [
    "import re\n",
    "\n",
    "def extract_equations(text):\n",
    "    # Define regex pattern for equations\n",
    "    pattern = r'[\\d\\w\\+\\-\\*/\\^\\.\\(\\)\\s]+=[\\d\\w\\+\\-\\*/\\^\\.\\(\\)\\s]+'\n",
    "    \n",
    "    # Find all matches in the text\n",
    "    equations = re.findall(pattern, text)\n",
    "    \n",
    "    # Return the extracted equations\n",
    "    return equations if equations else []\n",
    "\n",
    "# Example usage\n",
    "text = \"2*5+log(4) =9\\t 1+cos(3)+7 = 11; 10/2+4=9 sin(0)=0 2*5+4 =9\\tcos(3)+7 = 11; 2*3+4=10\"\n",
    "equations = extract_equations(text)\n",
    "print(\"Extracted Equations:\")\n",
    "print(equations)"
   ]
  },
  {
   "cell_type": "code",
   "execution_count": null,
   "id": "6ac9468d-1a42-4f04-80bd-a46097a620df",
   "metadata": {},
   "outputs": [],
   "source": []
  }
 ],
 "metadata": {
  "kernelspec": {
   "display_name": "Python [conda env:base] *",
   "language": "python",
   "name": "conda-base-py"
  },
  "language_info": {
   "codemirror_mode": {
    "name": "ipython",
    "version": 3
   },
   "file_extension": ".py",
   "mimetype": "text/x-python",
   "name": "python",
   "nbconvert_exporter": "python",
   "pygments_lexer": "ipython3",
   "version": "3.12.7"
  }
 },
 "nbformat": 4,
 "nbformat_minor": 5
}
